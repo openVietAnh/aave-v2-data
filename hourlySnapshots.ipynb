{
 "cells": [
  {
   "cell_type": "code",
   "execution_count": 1,
   "metadata": {},
   "outputs": [],
   "source": [
    "import requests\n",
    "import csv\n",
    "from datetime import datetime"
   ]
  },
  {
   "cell_type": "code",
   "execution_count": null,
   "metadata": {},
   "outputs": [],
   "source": [
    "TOKEN_ID = {\n",
    "    \"DAI\": \"0x6b175474e89094c44da98b954eedeac495271d0f\",\n",
    "    \"USDT\": \"0xdac17f958d2ee523a2206206994597c13d831ec7\",\n",
    "    \"USDC\": \"0xa0b86991c6218b36c1d19d4a2e9eb0ce3606eb48\",\n",
    "    \"WETH\": \"0xc02aaa39b223fe8d0a0e5c4f27ead9083c756cc2\",\n",
    "    \"WBTC\": \"0x2260fac5e5542a773aa44fbcfedf7c193bc2c599\",\n",
    "}\n",
    "CURRENT_TIME = 1722482066\n",
    "LAST_UPDATED_TIME = 1659286703\n",
    "CSV_HEADER_KEYS = [\"timestamp\", \"time\", \"totalDeposit\", \"depositRate\", \"stableBorrowRate\", \"variableBorrowRate\", \"utilizationRate\", \"price\", \"userCount\", \"depositers\", \"borrowers\"]"
   ]
  },
  {
   "cell_type": "code",
   "execution_count": null,
   "metadata": {},
   "outputs": [],
   "source": [
    "data = []\n",
    "for token in TOKEN_ID.keys():\n",
    "    print(\"Fetching\", token, \"data\")\n",
    "    last_timestamp = LAST_UPDATED_TIME\n",
    "    while True:\n",
    "        query = '''{\n",
    "            token(id: \\\"''' + TOKEN_ID[token] + '''\\\") {\n",
    "                _market {\n",
    "                hourlySnapshots(\n",
    "                    first: 1000\n",
    "                    where: {timestamp_gt: \\\"''' + str(last_timestamp) + '''\\\", timestamp_lte: \\\"''' + str(CURRENT_TIME) + '''\\\"}\n",
    "                    orderBy: timestamp\n",
    "                    orderDirection: asc\n",
    "                ) {\n",
    "                    rates {\n",
    "                        rate\n",
    "                        type\n",
    "                        side\n",
    "                    }\n",
    "                    market {\n",
    "                        cumulativeUniqueBorrowers\n",
    "                        cumulativeUniqueDepositors\n",
    "                        cumulativeUniqueUsers\n",
    "                    }\n",
    "                    totalBorrowBalanceUSD\n",
    "                    totalDepositBalanceUSD\n",
    "                    inputTokenPriceUSD\n",
    "                    timestamp\n",
    "                }\n",
    "            }\n",
    "        }\n",
    "        }'''\n",
    "        response = requests.post('https://gateway-arbitrum.network.thegraph.com/api/47fe3220cace15c6d958a2b9b3154b74/subgraphs/id/C2zniPn45RnLDGzVeGZCx2Sw3GXrbc9gL4ZfL8B8Em2j'\n",
    "                                    '',\n",
    "                                    json={'query': query})\n",
    "        if response.status_code != 200:\n",
    "            print(\"Problem reading data start at timestamp\", last_timestamp, \":\", response.status_code, response.json())\n",
    "            continue\n",
    "        hourlySnapshots = response.json()[\"data\"][\"token\"][\"_market\"][\"hourlySnapshots\"]\n",
    "        if len(hourlySnapshots) == 0:\n",
    "            break\n",
    "        for snapshot in hourlySnapshots:\n",
    "            item = {}\n",
    "            item[\"price\"] = snapshot[\"inputTokenPriceUSD\"]\n",
    "            item[\"timestamp\"] = snapshot[\"timestamp\"]\n",
    "            item[\"totalDeposit\"] = snapshot[\"totalDepositBalanceUSD\"]\n",
    "            item[\"depositRate\"] = list(filter(lambda rate: rate[\"side\"] == \"LENDER\", snapshot[\"rates\"]))[0][\"rate\"]\n",
    "            item[\"stableBorrowRate\"] = list(filter(lambda rate: rate[\"side\"] == \"BORROWER\" and rate[\"type\"] == \"STABLE\", snapshot[\"rates\"]))[0][\"rate\"]\n",
    "            item[\"variableBorrowRate\"] = list(filter(lambda rate: rate[\"side\"] == \"BORROWER\" and rate[\"type\"] == \"VARIABLE\", snapshot[\"rates\"]))[0][\"rate\"]\n",
    "            item[\"utilizationRate\"] = float(snapshot[\"totalBorrowBalanceUSD\"]) / float(snapshot[\"totalDepositBalanceUSD\"])\n",
    "            item[\"time\"] = datetime.fromtimestamp(int(item[\"timestamp\"])).isoformat()\n",
    "            item[\"userCount\"] = snapshot[\"market\"][\"cumulativeUniqueUsers\"]\n",
    "            item[\"depositers\"] = snapshot[\"market\"][\"cumulativeUniqueDepositors\"]\n",
    "            item[\"borrowers\"] = snapshot[\"market\"][\"cumulativeUniqueBorrowers\"]\n",
    "            data.append(item)\n",
    "        last_timestamp = hourlySnapshots[-1][\"timestamp\"]\n",
    "    with open(token + '.csv', 'w', newline='') as output_file:\n",
    "        dict_writer = csv.DictWriter(output_file, CSV_HEADER_KEYS)\n",
    "        dict_writer.writeheader()\n",
    "        dict_writer.writerows(data)"
   ]
  },
  {
   "cell_type": "code",
   "execution_count": null,
   "metadata": {},
   "outputs": [],
   "source": [
    "!wc * -l"
   ]
  },
  {
   "cell_type": "code",
   "execution_count": null,
   "metadata": {},
   "outputs": [],
   "source": [
    "from google.colab import files # type: ignore\n",
    "files.download('WETH.csv')\n",
    "files.download('WBTC.csv')\n",
    "files.download('DAI.csv')\n",
    "files.download('USDC.csv')\n",
    "files.download('USDT.csv')"
   ]
  }
 ],
 "metadata": {
  "kernelspec": {
   "display_name": "Python 3",
   "language": "python",
   "name": "python3"
  },
  "language_info": {
   "codemirror_mode": {
    "name": "ipython",
    "version": 3
   },
   "file_extension": ".py",
   "mimetype": "text/x-python",
   "name": "python",
   "nbconvert_exporter": "python",
   "pygments_lexer": "ipython3",
   "version": "3.11.9"
  }
 },
 "nbformat": 4,
 "nbformat_minor": 2
}
